{
  "nbformat": 4,
  "nbformat_minor": 0,
  "metadata": {
    "colab": {
      "name": "210430_BaseModel_OneInd_2012-2016.ipynb",
      "provenance": [],
      "collapsed_sections": [],
      "toc_visible": true
    },
    "kernelspec": {
      "name": "python3",
      "display_name": "Python 3"
    }
  },
  "cells": [
    {
      "cell_type": "code",
      "metadata": {
        "id": "88NemFH6Y3bj"
      },
      "source": [
        "import numpy as np\n",
        "import matplotlib.pyplot as plt\n",
        "import pandas as pd\n",
        "\n",
        "dataset_train = pd.read_csv('Google_Price_Train_2012-2016.csv')\n",
        "#we concentrate on open price \n",
        "#with '1:2' and '.values', we get a the array of the 'open' column\n",
        "training_set = dataset_train.iloc[:, 1:2].values"
      ],
      "execution_count": 1,
      "outputs": []
    },
    {
      "cell_type": "code",
      "metadata": {
        "colab": {
          "base_uri": "https://localhost:8080/"
        },
        "id": "jWv7XfqhbzmZ",
        "outputId": "7075e5db-82ab-46c5-fd10-6db168c5a8dc"
      },
      "source": [
        "training_set.shape"
      ],
      "execution_count": 2,
      "outputs": [
        {
          "output_type": "execute_result",
          "data": {
            "text/plain": [
              "(1258, 1)"
            ]
          },
          "metadata": {
            "tags": []
          },
          "execution_count": 2
        }
      ]
    },
    {
      "cell_type": "code",
      "metadata": {
        "id": "cQ3cBYodcUjB"
      },
      "source": [
        "#feature scaling with normalisation\n",
        "from sklearn.preprocessing import MinMaxScaler\n",
        "#'sc' is an object of the MinMaxScaler class\n",
        "#the scaled stock prices will be between 0 and 1\n",
        "sc = MinMaxScaler(feature_range = (0, 1))\n",
        "#apply the scaler on the data\n",
        "training_set_scaled = sc.fit_transform(training_set)\n",
        "\n",
        "#create data structure with 60 timesteps and 1 output\n",
        "#timesteps means: for one output in time t, it will check the values \n",
        "#of the 60 moments before\n",
        "X_train = []\n",
        "y_train = []\n",
        "#60 is the starting point (we need the days before to create first training value)\n",
        "#1258 is the index of the last day\n",
        "for i in range(60, 1258):\n",
        "    #get previous 60 values\n",
        "    #'0' specifies the column (we only have one column)\n",
        "    X_train.append(training_set_scaled[i-60:i, 0])\n",
        "    y_train.append(training_set_scaled[i, 0])\n",
        "#make arrays from the lists\n",
        "X_train, y_train = np.array(X_train), np.array(y_train)\n"
      ],
      "execution_count": 3,
      "outputs": []
    },
    {
      "cell_type": "code",
      "metadata": {
        "id": "PIhL-Z5wdqVw",
        "colab": {
          "base_uri": "https://localhost:8080/"
        },
        "outputId": "31713765-f71a-4023-c82d-0dff4e8699df"
      },
      "source": [
        "#reshape data and add more dimensions\n",
        "#define number of indicators\n",
        "#currently we have one indicator ('open' stock price)\n",
        "#we for example can add stock prices of another company\n",
        "#'X_train.shape[0]' is the number of lines\n",
        "#'X_train.shape[1]' is the number of columns\n",
        "#'1' is the number of indicators (here we only take google stock price)\n",
        "X_train = np.reshape(X_train, (X_train.shape[0], X_train.shape[1], 1))\n",
        "X_train.shape"
      ],
      "execution_count": 4,
      "outputs": [
        {
          "output_type": "execute_result",
          "data": {
            "text/plain": [
              "(1198, 60, 1)"
            ]
          },
          "metadata": {
            "tags": []
          },
          "execution_count": 4
        }
      ]
    },
    {
      "cell_type": "code",
      "metadata": {
        "id": "74MDqcf7q19U"
      },
      "source": [
        "#import keras libraries & packages\n",
        "\n",
        "#that helps us to set up a sequence of layers\n",
        "from keras.models import Sequential\n",
        "#'Dense' produces the output layer\n",
        "from keras.layers import Dense\n",
        "#getting the LSTM layers\n",
        "from keras.layers import LSTM\n",
        "#use dropout to avoid overfitting\n",
        "from keras.layers import Dropout"
      ],
      "execution_count": null,
      "outputs": []
    },
    {
      "cell_type": "code",
      "metadata": {
        "id": "tjdTaZ6psGJQ"
      },
      "source": [
        "#initialize the RNN\n",
        "#'regressor' is used to predict a continuous value\n",
        "#'regressor' is an object of the 'Sequential' class\n",
        "regressor = Sequential()\n",
        "\n",
        "#add first LSTM layer and dropout regularization\n",
        "#LSTM object has 3 arguments:\n",
        "#1) number of units (neurons; LSTM cells)\n",
        "#2) return sequences: has to be true, cause we build a stacked LSTM\n",
        "#3) input shape (relates to shape of X_train; 2 last dimensions are enough)\n",
        "regressor.add(LSTM(units = 50, return_sequences = True, input_shape = (X_train.shape[1], 1)))\n",
        "\n",
        "#add dropout regularization\n",
        "#Dropout rate has one argument:\n",
        "#--> dropout rate (number of neurons, that should be switched off \n",
        "#during each iteration of the training)\n",
        "regressor.add(Dropout(0.2))\n",
        "\n",
        "#2nd layer\n",
        "#we don't need to specifiy input shape anymore\n",
        "regressor.add(LSTM(units = 50, return_sequences = True))\n",
        "regressor.add(Dropout(0.2))\n",
        "\n",
        "#3nd layer\n",
        "regressor.add(LSTM(units = 50, return_sequences = True))\n",
        "regressor.add(Dropout(0.2))\n",
        "\n",
        "#4th layer\n",
        "#we remove 'return_sequences = True' and keep the default value --> 'false'\n",
        "regressor.add(LSTM(units = 50))\n",
        "regressor.add(Dropout(0.2))\n",
        "\n",
        "#add output layer\n",
        "regressor.add(Dense(units = 1))\n",
        "\n",
        "#compile RNN with right optimizer\n",
        "#and right loss function\n",
        "#use 'compile' method of the 'sequential' class\n",
        "#different optimizers can be found on keras documentation\n",
        "regressor.compile(optimizer = 'adam', loss = 'mean_squared_error')"
      ],
      "execution_count": null,
      "outputs": []
    },
    {
      "cell_type": "code",
      "metadata": {
        "id": "Z2xE38GO1eMl"
      },
      "source": [
        "#fit RNN to training set\n",
        "#'batch_size' means: in every epoch, the model takes 32 observations\n",
        "#and updates the weights accordingly\n",
        "# 1258 total observations / 32 observations per batch =^ 38\n",
        "regressor.fit(X_train, y_train, epochs = 100, batch_size = 32)"
      ],
      "execution_count": null,
      "outputs": []
    },
    {
      "cell_type": "code",
      "metadata": {
        "id": "0z_URHiQObPH"
      },
      "source": [
        "#save the model\n",
        "from keras.models import load_model\n",
        "regressor.save('reg_google_2012-2016.h5')\n"
      ],
      "execution_count": null,
      "outputs": []
    },
    {
      "cell_type": "code",
      "metadata": {
        "id": "hNd7XQzk6NoD"
      },
      "source": [
        "#making predictions and visualize results\n",
        "\n",
        "#get real stock price of January 2017\n",
        "dataset_test = pd.read_csv('Google_Stock_Price_Test.csv')\n",
        "real_stock_price = dataset_test.iloc[:, 1:2].values"
      ],
      "execution_count": 5,
      "outputs": []
    },
    {
      "cell_type": "code",
      "metadata": {
        "id": "TgcucODIa1rY"
      },
      "source": [
        "#get predicted stock price of 2017\n",
        "\n",
        "#in order to predict stockprice of one day in Jan 17,\n",
        "#we need 60 previous days\n",
        "#for these 60 days, we need training and test set\n",
        "\n",
        "#we will concatenate the initial dataframes\n",
        "#then we will scale the values\n",
        "#we have to scale the input values \n",
        "#cause the rnn was trained on the scaled values\n",
        "\n",
        "#for vertical concatenation, we take: axis = 0\n",
        "#for horizontal concatenation, we take: axis = 1\n",
        "dataset_total = pd.concat((dataset_train['Open'], dataset_test['Open']), axis = 0)\n",
        "\n",
        "#get inputs of 60 previous days\n",
        "#first financial day that we want to predict is Jan 3\n",
        "#we get the index with this expression: [len(dataset_total) - len(dataset_test)]\n",
        "#--> length of dataset_test is 20\n",
        "\n",
        "#we get the lower bound with this expression: len(dataset_total) - len(dataset_test) - 60\n",
        "#the upper bound is the last index of the whole dataset\n",
        "#with 'values' we get a numpy array\n",
        "#'inputs' gives us all information to predict values of Jan 2017\n",
        "inputs = dataset_total[len(dataset_total) - len(dataset_test) - 60:].values\n",
        "\n",
        "#reshape to get right numpy shape\n",
        "#now we have the observations in lines and in one column\n",
        "inputs = inputs.reshape(-1, 1)\n",
        "\n",
        "#scale the inputs (but not the test values)\n",
        "#here we don't take the 'fit_transform' method, because \n",
        "#'sc' was already prepared\n",
        "inputs = sc.transform(inputs)\n"
      ],
      "execution_count": 6,
      "outputs": []
    },
    {
      "cell_type": "code",
      "metadata": {
        "id": "uOIg6lnrSagw"
      },
      "source": [
        "#make 3d structure for test set\n",
        "\n",
        "X_test = []\n",
        "#upper bound is 80: 60 + 20 (we have 20 financial days in the test set)\n",
        "for i in range(60, 80):\n",
        "    #get previous 60 values for each of the stock prices in Jan 2017\n",
        "    #'0' specifies the column (we only have one column)\n",
        "    X_test.append(inputs[i-60:i, 0])\n",
        "#make arrays from the lists\n",
        "X_test = np.array(X_test)\n",
        "\n",
        "#reshape data and add more dimensions\n",
        "#define number of indicators\n",
        "#currently we have one indicator ('open' stock price)\n",
        "#we for example can add stock prices of another company\n",
        "#'X_train.shape[0]' is the number of lines\n",
        "#'X_train.shape[1]' is the number of columns\n",
        "#'1' is the number of indicators (here we only take google stock price)\n",
        "X_test = np.reshape(X_test, (X_test.shape[0], X_test.shape[1], 1))"
      ],
      "execution_count": 7,
      "outputs": []
    },
    {
      "cell_type": "markdown",
      "metadata": {
        "id": "Mkly_KQ18e3i"
      },
      "source": [
        "## Get predictions based on training set from 2012 to 2016"
      ]
    },
    {
      "cell_type": "code",
      "metadata": {
        "id": "Uf1xHPEz7hqz"
      },
      "source": [
        "from keras.models import load_model\n",
        "regressor = load_model('reg_google_2012-2016.h5')"
      ],
      "execution_count": 8,
      "outputs": []
    },
    {
      "cell_type": "code",
      "metadata": {
        "id": "uAGP0aQf8bL7"
      },
      "source": [
        "#make predictions on the values of X_test (Jan 2017)\n",
        "predicted_stock_price = regressor.predict(X_test)\n",
        "\n",
        "#inverse scaling of predictions\n",
        "predicted_stock_price = sc.inverse_transform(predicted_stock_price)"
      ],
      "execution_count": 9,
      "outputs": []
    },
    {
      "cell_type": "code",
      "metadata": {
        "colab": {
          "base_uri": "https://localhost:8080/",
          "height": 310
        },
        "id": "JSgYyKPx9HFP",
        "outputId": "2c54dec3-2c4c-4d89-d6a6-ea3cfd9ec7a7"
      },
      "source": [
        "#visualize the results\n",
        "plt.plot(real_stock_price, color = 'red', label = 'Real Google Stock Price for Jan 2017')\n",
        "plt.plot(predicted_stock_price, color = 'blue', label = 'Predicted Google Stock Price for Jan 2017')\n",
        "plt.title('Google Stock Price Prediction (based on training \\n with previous Stock Prices between 2012 & 2016)')\n",
        "plt.xlabel('Time')\n",
        "plt.ylabel('Stock Price')\n",
        "plt.legend()\n",
        "plt.show()"
      ],
      "execution_count": 13,
      "outputs": [
        {
          "output_type": "display_data",
          "data": {
            "image/png": "[encoded data removed]",
            "text/plain": [
              "<Figure size 432x288 with 1 Axes>"
            ]
          },
          "metadata": {
            "tags": [],
            "needs_background": "light"
          }
        }
      ]
    },
    {
      "cell_type": "code",
      "metadata": {
        "colab": {
          "base_uri": "https://localhost:8080/"
        },
        "id": "v7sLmZ6x9NZM",
        "outputId": "0bf50103-ed59-4d0d-944c-10384f8389a9"
      },
      "source": [
        "import math\n",
        "from sklearn.metrics import mean_squared_error\n",
        "#divide rmse by 840 (range of stock price of Jan 2017) --> so we get a relative stock price\n",
        "rmse_04_16 = (math.sqrt(mean_squared_error(real_stock_price, predicted_stock_price))) / 840\n",
        "rmse_04_16 "
      ],
      "execution_count": 14,
      "outputs": [
        {
          "output_type": "execute_result",
          "data": {
            "text/plain": [
              "0.01531580704662384"
            ]
          },
          "metadata": {
            "tags": []
          },
          "execution_count": 14
        }
      ]
    },
    {
      "cell_type": "code",
      "metadata": {
        "id": "R1bJ9KY6VH60",
        "colab": {
          "base_uri": "https://localhost:8080/"
        },
        "outputId": "51ff7ba7-ca11-4cc0-97d2-d35c8f17ffba"
      },
      "source": [
        "#concat arrays horizontally\n",
        "arrays_concat = np.concatenate((real_stock_price, predicted_stock_price), axis = 1)\n",
        "\n",
        "real_val_list = arrays_concat[:,0].tolist()\n",
        "pred_val_list = arrays_concat[:,1].tolist()\n",
        "\n",
        "#loop through columns of array and check directions\n",
        "#if second value bigger than first value: give a 2\n",
        "#if second value smaller than first value： give a 1\n",
        "\n",
        "#get directions of real values\n",
        "direction_list_realval = []\n",
        "n = 0\n",
        "for x in real_val_list:\n",
        "    if real_val_list[n] > real_val_list[n-1]:\n",
        "        direction_list_realval.append(2)\n",
        "    else:\n",
        "        direction_list_realval.append(1)\n",
        "    n = n + 1  \n",
        "\n",
        "#get directions of predicted values\n",
        "direction_list_predval = []\n",
        "n = 0\n",
        "for x in pred_val_list:\n",
        "    if pred_val_list[n] > pred_val_list[n-1]:\n",
        "        direction_list_predval.append(2)\n",
        "    else:\n",
        "        direction_list_predval.append(1)\n",
        "    n = n + 1\n",
        "\n",
        "#change lists to arrays\n",
        "real_val_array = np.array(real_val_list)\n",
        "direction_array_realval = np.array(direction_list_realval)\n",
        "\n",
        "pred_val_array = np.array(pred_val_list)\n",
        "direction_array_predval = np.array(direction_list_predval)\n",
        "\n",
        "#reshape to 2D array\n",
        "real_val_2d = np.reshape(real_val_array, (-1, 1))\n",
        "direction_2d_realval = np.reshape(direction_array_realval, (-1, 1))\n",
        "\n",
        "pred_val_2d = np.reshape(pred_val_array, (-1, 1))\n",
        "direction_2d_predval = np.reshape(direction_array_predval, (-1, 1))\n",
        "\n",
        "val_dir = np.concatenate((real_val_2d, direction_2d_realval, pred_val_2d, direction_2d_predval), axis = 1)\n",
        "\n",
        "#select direction columns from 2D array\n",
        "list_ind = [1, 3]\n",
        "val_bin = val_dir[:,list_ind]\n",
        "\n",
        "correct_list = []\n",
        "for x in val_bin:\n",
        "  if x[0] == x[1]:\n",
        "    correct_list.append(1)\n",
        "  else:\n",
        "    correct_list.append(0)\n",
        "\n",
        "correct_list_array = np.reshape(correct_list, (-1, 1))\n",
        "\n",
        "val_bin_correct = np.concatenate((val_bin, correct_list_array), axis = 1)\n",
        "\n",
        "#calculate direction accuracy (in percent)\n",
        "dir_acc = sum(val_bin_correct[:,2]) / len(val_bin_correct)\n",
        "dir_acc\n"
      ],
      "execution_count": 15,
      "outputs": [
        {
          "output_type": "execute_result",
          "data": {
            "text/plain": [
              "0.75"
            ]
          },
          "metadata": {
            "tags": []
          },
          "execution_count": 15
        }
      ]
    }
  ]
}