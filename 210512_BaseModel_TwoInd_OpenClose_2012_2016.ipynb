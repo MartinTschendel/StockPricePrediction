{
  "nbformat": 4,
  "nbformat_minor": 0,
  "metadata": {
    "colab": {
      "name": "210512_BaseModel_TwoInd_OpenClose_2012-2016.ipynb",
      "provenance": [],
      "collapsed_sections": [],
      "toc_visible": true
    },
    "kernelspec": {
      "name": "python3",
      "display_name": "Python 3"
    }
  },
  "cells": [
    {
      "cell_type": "code",
      "metadata": {
        "id": "88NemFH6Y3bj"
      },
      "source": [
        "import numpy as np\n",
        "import matplotlib.pyplot as plt\n",
        "import pandas as pd\n",
        "\n",
        "#argument 'thousands=','' avoids that comma is kept in numeric values\n",
        "dataset_train = pd.read_csv('Google_Price_Train_2012-2016.csv', thousands=',')\n",
        "\n",
        "#select just the Close column\n",
        "dataset_train_close = dataset_train['Close']\n",
        "\n",
        "#change datatype of Close column from object to float\n",
        "dataset_train_close = pd.to_numeric(dataset_train_close, errors='coerce')\n",
        "\n",
        "#extract the 'Open' column\n",
        "dataset_train_open = dataset_train['Open']\n"
      ],
      "execution_count": 1,
      "outputs": []
    },
    {
      "cell_type": "code",
      "metadata": {
        "id": "tzEl6uBaf67Q",
        "colab": {
          "base_uri": "https://localhost:8080/"
        },
        "outputId": "f399e5f8-6e57-47d7-ca00-de6e9f832c21"
      },
      "source": [
        "#transform series into arrays\n",
        "dataset_train_open_array = dataset_train_open.values\n",
        "dataset_train_close_array = dataset_train_close.values\n",
        "\n",
        "#reshape to vertical structure and make 2D array\n",
        "open = dataset_train_open_array.reshape(-1, 1)\n",
        "close = dataset_train_close_array.reshape(-1, 1)\n",
        "\n",
        "#concatenate the 2 arrays\n",
        "training_set = np.concatenate((open, close), axis = 1)\n",
        "\n",
        "training_set.shape"
      ],
      "execution_count": 2,
      "outputs": [
        {
          "output_type": "execute_result",
          "data": {
            "text/plain": [
              "(1258, 2)"
            ]
          },
          "metadata": {
            "tags": []
          },
          "execution_count": 2
        }
      ]
    },
    {
      "cell_type": "code",
      "metadata": {
        "id": "cQ3cBYodcUjB"
      },
      "source": [
        "#feature scaling with normalisation\n",
        "from sklearn.preprocessing import MinMaxScaler\n",
        "#'sc' is an object of the MinMaxScaler class\n",
        "#the scaled stock prices will be between 0 and 1\n",
        "sc = MinMaxScaler(feature_range = (0, 1))\n",
        "#apply the scaler on the data\n",
        "training_set_scaled = sc.fit_transform(training_set)"
      ],
      "execution_count": 3,
      "outputs": []
    },
    {
      "cell_type": "code",
      "metadata": {
        "id": "QdjdryL0doIe"
      },
      "source": [
        "#create data structure with 60 timesteps and 1 output\n",
        "#timesteps means: for one output in time t, it will check the values \n",
        "#of the 60 moments before\n",
        "X_train = []\n",
        "y_train = []\n",
        "#60 is the starting point (we need the days before to create first training value)\n",
        "#1258 is the index of the last day\n",
        "for i in range(60, 1258):\n",
        "    #get previous 60 values\n",
        "    #'1' specifies the columns (we have two columns)\n",
        "    X_train.append(training_set_scaled[i-60:i, 0:2])\n",
        "    y_train.append(training_set_scaled[i, 0])\n",
        "#make arrays from the lists\n",
        "X_train, y_train = np.array(X_train), np.array(y_train)\n"
      ],
      "execution_count": 4,
      "outputs": []
    },
    {
      "cell_type": "code",
      "metadata": {
        "id": "PIhL-Z5wdqVw",
        "colab": {
          "base_uri": "https://localhost:8080/"
        },
        "outputId": "b8dc7c08-83ae-4a8f-c3d6-d045e4095f46"
      },
      "source": [
        "#reshape data and add more dimensions\n",
        "#define number of indicators\n",
        "#currently we have two indicators ('open' and 'close' stock price)\n",
        "#we for example can add stock prices of another company\n",
        "#'X_train.shape[0]' is the number of lines\n",
        "#'X_train.shape[1]' is the number of columns\n",
        "#'2' is the number of indicators (here we take 2 indicators)\n",
        "X_train = np.reshape(X_train, (X_train.shape[0], X_train.shape[1], 2))\n",
        "X_train.shape"
      ],
      "execution_count": 5,
      "outputs": [
        {
          "output_type": "execute_result",
          "data": {
            "text/plain": [
              "(1198, 60, 2)"
            ]
          },
          "metadata": {
            "tags": []
          },
          "execution_count": 5
        }
      ]
    },
    {
      "cell_type": "code",
      "metadata": {
        "id": "74MDqcf7q19U"
      },
      "source": [
        "#import keras libraries & packages\n",
        "\n",
        "#that helps us to set up a sequence of layers\n",
        "from keras.models import Sequential\n",
        "#'Dense' produces the output layer\n",
        "from keras.layers import Dense\n",
        "#getting the LSTM layers\n",
        "from keras.layers import LSTM\n",
        "#use dropout to avoid overfitting\n",
        "from keras.layers import Dropout\n",
        "\n",
        "from keras import optimizers"
      ],
      "execution_count": null,
      "outputs": []
    },
    {
      "cell_type": "code",
      "metadata": {
        "id": "tjdTaZ6psGJQ"
      },
      "source": [
        "#initialize the RNN\n",
        "#'regressor' is used to predict a continuous value\n",
        "#'regressor' is an object of the 'Sequential' class\n",
        "regressor = Sequential()\n",
        "\n",
        "#add first LSTM layer and dropout regularization\n",
        "#LSTM object has 3 arguments:\n",
        "#1) number of units (neurons; LSTM cells)\n",
        "#2) return sequences: has to be true, cause we build a stacked LSTM\n",
        "#3) input shape (relates to shape of X_train; 2 last dimensions are enough)\n",
        "regressor.add(LSTM(units = 50, return_sequences = True, input_shape = (X_train.shape[1], 2)))\n",
        "\n",
        "#add dropout regularization\n",
        "#Dropout rate has one argument:\n",
        "#--> dropout rate (number of neurons, that should be switched off \n",
        "#during each iteration of the training)\n",
        "regressor.add(Dropout(0.2))\n",
        "\n",
        "#2nd layer\n",
        "#we don't need to specifiy input shape anymore\n",
        "regressor.add(LSTM(units = 50, return_sequences = True))\n",
        "regressor.add(Dropout(0.2))\n",
        "\n",
        "#3nd layer\n",
        "regressor.add(LSTM(units = 50, return_sequences = True))\n",
        "regressor.add(Dropout(0.2))\n",
        "\n",
        "#4th layer\n",
        "#we remove 'return_sequences = True' and keep the default value --> 'false'\n",
        "regressor.add(LSTM(units = 50))\n",
        "regressor.add(Dropout(0.2))\n",
        "\n",
        "#add output layer\n",
        "regressor.add(Dense(units = 1))\n",
        "\n",
        "#compile RNN with right optimizer\n",
        "#and right loss function\n",
        "#use 'compile' method of the 'sequential' class\n",
        "#different optimizers can be found on keras documentation\n",
        "\n",
        "regressor.compile(optimizer = 'Adam', loss = 'mean_squared_error')"
      ],
      "execution_count": null,
      "outputs": []
    },
    {
      "cell_type": "code",
      "metadata": {
        "id": "Z2xE38GO1eMl",
        "colab": {
          "base_uri": "https://localhost:8080/"
        },
        "outputId": "ae67b2c4-d3f3-4ca6-e98e-189433e2b07b"
      },
      "source": [
        "#fit RNN to training set\n",
        "#'batch_size' means: in every epoch, the model takes 32 observations\n",
        "#and updates the weights accordingly\n",
        "# 1258 total observations / 32 observations per batch =^ 38\n",
        "regressor.fit(X_train, y_train, epochs = 100, batch_size = 32)"
      ],
      "execution_count": null,
      "outputs": [
        {
          "output_type": "stream",
          "text": [
            "Epoch 1/100\n",
            "38/38 [==============================] - 11s 108ms/step - loss: 0.1002\n",
            "Epoch 2/100\n",
            "38/38 [==============================] - 4s 111ms/step - loss: 0.0070\n",
            "Epoch 3/100\n",
            "38/38 [==============================] - 4s 110ms/step - loss: 0.0055\n",
            "Epoch 4/100\n",
            "38/38 [==============================] - 4s 113ms/step - loss: 0.0061\n",
            "Epoch 5/100\n",
            "38/38 [==============================] - 4s 111ms/step - loss: 0.0050\n",
            "Epoch 6/100\n",
            "38/38 [==============================] - 4s 112ms/step - loss: 0.0054\n",
            "Epoch 7/100\n",
            "38/38 [==============================] - 4s 111ms/step - loss: 0.0044\n",
            "Epoch 8/100\n",
            "38/38 [==============================] - 4s 112ms/step - loss: 0.0043\n",
            "Epoch 9/100\n",
            "38/38 [==============================] - 4s 115ms/step - loss: 0.0043\n",
            "Epoch 10/100\n",
            "38/38 [==============================] - 4s 112ms/step - loss: 0.0046\n",
            "Epoch 11/100\n",
            "38/38 [==============================] - 4s 112ms/step - loss: 0.0052\n",
            "Epoch 12/100\n",
            "38/38 [==============================] - 4s 111ms/step - loss: 0.0037\n",
            "Epoch 13/100\n",
            "38/38 [==============================] - 4s 112ms/step - loss: 0.0044\n",
            "Epoch 14/100\n",
            "38/38 [==============================] - 4s 113ms/step - loss: 0.0038\n",
            "Epoch 15/100\n",
            "38/38 [==============================] - 4s 113ms/step - loss: 0.0045\n",
            "Epoch 16/100\n",
            "38/38 [==============================] - 4s 114ms/step - loss: 0.0040\n",
            "Epoch 17/100\n",
            "38/38 [==============================] - 4s 113ms/step - loss: 0.0035\n",
            "Epoch 18/100\n",
            "38/38 [==============================] - 4s 116ms/step - loss: 0.0037\n",
            "Epoch 19/100\n",
            "38/38 [==============================] - 4s 112ms/step - loss: 0.0041\n",
            "Epoch 20/100\n",
            "38/38 [==============================] - 4s 114ms/step - loss: 0.0033\n",
            "Epoch 21/100\n",
            "38/38 [==============================] - 4s 113ms/step - loss: 0.0037\n",
            "Epoch 22/100\n",
            "38/38 [==============================] - 4s 112ms/step - loss: 0.0031\n",
            "Epoch 23/100\n",
            "38/38 [==============================] - 4s 112ms/step - loss: 0.0036\n",
            "Epoch 24/100\n",
            "38/38 [==============================] - 4s 113ms/step - loss: 0.0031\n",
            "Epoch 25/100\n",
            "38/38 [==============================] - 4s 114ms/step - loss: 0.0032\n",
            "Epoch 26/100\n",
            "38/38 [==============================] - 4s 114ms/step - loss: 0.0031\n",
            "Epoch 27/100\n",
            "38/38 [==============================] - 4s 112ms/step - loss: 0.0031\n",
            "Epoch 28/100\n",
            "38/38 [==============================] - 4s 113ms/step - loss: 0.0034\n",
            "Epoch 29/100\n",
            "38/38 [==============================] - 4s 112ms/step - loss: 0.0039\n",
            "Epoch 30/100\n",
            "38/38 [==============================] - 4s 112ms/step - loss: 0.0031\n",
            "Epoch 31/100\n",
            "38/38 [==============================] - 4s 112ms/step - loss: 0.0027\n",
            "Epoch 32/100\n",
            "38/38 [==============================] - 4s 114ms/step - loss: 0.0030\n",
            "Epoch 33/100\n",
            "38/38 [==============================] - 4s 113ms/step - loss: 0.0028\n",
            "Epoch 34/100\n",
            "38/38 [==============================] - 4s 114ms/step - loss: 0.0029\n",
            "Epoch 35/100\n",
            "38/38 [==============================] - 4s 115ms/step - loss: 0.0035\n",
            "Epoch 36/100\n",
            "38/38 [==============================] - 4s 114ms/step - loss: 0.0027\n",
            "Epoch 37/100\n",
            "38/38 [==============================] - 4s 115ms/step - loss: 0.0031\n",
            "Epoch 38/100\n",
            "38/38 [==============================] - 4s 114ms/step - loss: 0.0024\n",
            "Epoch 39/100\n",
            "38/38 [==============================] - 4s 114ms/step - loss: 0.0030\n",
            "Epoch 40/100\n",
            "38/38 [==============================] - 4s 112ms/step - loss: 0.0025\n",
            "Epoch 41/100\n",
            "38/38 [==============================] - 4s 114ms/step - loss: 0.0031\n",
            "Epoch 42/100\n",
            "38/38 [==============================] - 4s 113ms/step - loss: 0.0026\n",
            "Epoch 43/100\n",
            "38/38 [==============================] - 4s 113ms/step - loss: 0.0024\n",
            "Epoch 44/100\n",
            "38/38 [==============================] - 4s 114ms/step - loss: 0.0025\n",
            "Epoch 45/100\n",
            "38/38 [==============================] - 4s 113ms/step - loss: 0.0025\n",
            "Epoch 46/100\n",
            "38/38 [==============================] - 4s 114ms/step - loss: 0.0023\n",
            "Epoch 47/100\n",
            "38/38 [==============================] - 4s 114ms/step - loss: 0.0028\n",
            "Epoch 48/100\n",
            "38/38 [==============================] - 4s 112ms/step - loss: 0.0030\n",
            "Epoch 49/100\n",
            "38/38 [==============================] - 4s 114ms/step - loss: 0.0022\n",
            "Epoch 50/100\n",
            "38/38 [==============================] - 4s 116ms/step - loss: 0.0029\n",
            "Epoch 51/100\n",
            "38/38 [==============================] - 4s 116ms/step - loss: 0.0023\n",
            "Epoch 52/100\n",
            "38/38 [==============================] - 4s 114ms/step - loss: 0.0017\n",
            "Epoch 53/100\n",
            "38/38 [==============================] - 4s 116ms/step - loss: 0.0022\n",
            "Epoch 54/100\n",
            "38/38 [==============================] - 4s 115ms/step - loss: 0.0028\n",
            "Epoch 55/100\n",
            "38/38 [==============================] - 4s 114ms/step - loss: 0.0024\n",
            "Epoch 56/100\n",
            "38/38 [==============================] - 4s 114ms/step - loss: 0.0022\n",
            "Epoch 57/100\n",
            "38/38 [==============================] - 4s 114ms/step - loss: 0.0020\n",
            "Epoch 58/100\n",
            "38/38 [==============================] - 4s 114ms/step - loss: 0.0020\n",
            "Epoch 59/100\n",
            "38/38 [==============================] - 4s 113ms/step - loss: 0.0020\n",
            "Epoch 60/100\n",
            "38/38 [==============================] - 4s 114ms/step - loss: 0.0022\n",
            "Epoch 61/100\n",
            "38/38 [==============================] - 4s 116ms/step - loss: 0.0022\n",
            "Epoch 62/100\n",
            "38/38 [==============================] - 4s 115ms/step - loss: 0.0021\n",
            "Epoch 63/100\n",
            "38/38 [==============================] - 4s 114ms/step - loss: 0.0021\n",
            "Epoch 64/100\n",
            "38/38 [==============================] - 4s 114ms/step - loss: 0.0020\n",
            "Epoch 65/100\n",
            "38/38 [==============================] - 4s 114ms/step - loss: 0.0019\n",
            "Epoch 66/100\n",
            "38/38 [==============================] - 4s 114ms/step - loss: 0.0016\n",
            "Epoch 67/100\n",
            "38/38 [==============================] - 4s 115ms/step - loss: 0.0019\n",
            "Epoch 68/100\n",
            "38/38 [==============================] - 4s 113ms/step - loss: 0.0021\n",
            "Epoch 69/100\n",
            "38/38 [==============================] - 4s 115ms/step - loss: 0.0018\n",
            "Epoch 70/100\n",
            "38/38 [==============================] - 4s 114ms/step - loss: 0.0020\n",
            "Epoch 71/100\n",
            "38/38 [==============================] - 4s 113ms/step - loss: 0.0020\n",
            "Epoch 72/100\n",
            "38/38 [==============================] - 4s 113ms/step - loss: 0.0019\n",
            "Epoch 73/100\n",
            "38/38 [==============================] - 4s 113ms/step - loss: 0.0019\n",
            "Epoch 74/100\n",
            "38/38 [==============================] - 4s 115ms/step - loss: 0.0017\n",
            "Epoch 75/100\n",
            "38/38 [==============================] - 4s 113ms/step - loss: 0.0017\n",
            "Epoch 76/100\n",
            "38/38 [==============================] - 4s 113ms/step - loss: 0.0017\n",
            "Epoch 77/100\n",
            "38/38 [==============================] - 4s 113ms/step - loss: 0.0016\n",
            "Epoch 78/100\n",
            "38/38 [==============================] - 4s 112ms/step - loss: 0.0019\n",
            "Epoch 79/100\n",
            "38/38 [==============================] - 4s 114ms/step - loss: 0.0018\n",
            "Epoch 80/100\n",
            "38/38 [==============================] - 4s 112ms/step - loss: 0.0016\n",
            "Epoch 81/100\n",
            "38/38 [==============================] - 4s 114ms/step - loss: 0.0018\n",
            "Epoch 82/100\n",
            "38/38 [==============================] - 4s 114ms/step - loss: 0.0016\n",
            "Epoch 83/100\n",
            "38/38 [==============================] - 4s 115ms/step - loss: 0.0015\n",
            "Epoch 84/100\n",
            "38/38 [==============================] - 4s 116ms/step - loss: 0.0015\n",
            "Epoch 85/100\n",
            "38/38 [==============================] - 4s 114ms/step - loss: 0.0016\n",
            "Epoch 86/100\n",
            "38/38 [==============================] - 4s 115ms/step - loss: 0.0015\n",
            "Epoch 87/100\n",
            "38/38 [==============================] - 4s 115ms/step - loss: 0.0016\n",
            "Epoch 88/100\n",
            "38/38 [==============================] - 4s 114ms/step - loss: 0.0016\n",
            "Epoch 89/100\n",
            "38/38 [==============================] - 4s 114ms/step - loss: 0.0018\n",
            "Epoch 90/100\n",
            "38/38 [==============================] - 4s 113ms/step - loss: 0.0016\n",
            "Epoch 91/100\n",
            "38/38 [==============================] - 4s 114ms/step - loss: 0.0015\n",
            "Epoch 92/100\n",
            "38/38 [==============================] - 4s 114ms/step - loss: 0.0015\n",
            "Epoch 93/100\n",
            "38/38 [==============================] - 4s 114ms/step - loss: 0.0016\n",
            "Epoch 94/100\n",
            "38/38 [==============================] - 4s 114ms/step - loss: 0.0017\n",
            "Epoch 95/100\n",
            "38/38 [==============================] - 4s 115ms/step - loss: 0.0019\n",
            "Epoch 96/100\n",
            "38/38 [==============================] - 4s 115ms/step - loss: 0.0014\n",
            "Epoch 97/100\n",
            "38/38 [==============================] - 4s 114ms/step - loss: 0.0016\n",
            "Epoch 98/100\n",
            "38/38 [==============================] - 4s 116ms/step - loss: 0.0015\n",
            "Epoch 99/100\n",
            "38/38 [==============================] - 4s 114ms/step - loss: 0.0014\n",
            "Epoch 100/100\n",
            "38/38 [==============================] - 4s 114ms/step - loss: 0.0015\n"
          ],
          "name": "stdout"
        },
        {
          "output_type": "execute_result",
          "data": {
            "text/plain": [
              "<tensorflow.python.keras.callbacks.History at 0x7f8d55c47a10>"
            ]
          },
          "metadata": {
            "tags": []
          },
          "execution_count": 33
        }
      ]
    },
    {
      "cell_type": "code",
      "metadata": {
        "id": "0z_URHiQObPH"
      },
      "source": [
        "#save the model\n",
        "from keras.models import load_model\n",
        "regressor.save('reg_google_ind2_open_close_2012-2016.h5')\n"
      ],
      "execution_count": null,
      "outputs": []
    },
    {
      "cell_type": "code",
      "metadata": {
        "id": "hNd7XQzk6NoD",
        "colab": {
          "base_uri": "https://localhost:8080/"
        },
        "outputId": "9955e992-2b37-48f9-c088-24ef35d6ae35"
      },
      "source": [
        "#making predictions and visualize results\n",
        "\n",
        "#get real stock price of January 2017\n",
        "dataset_test = pd.read_csv('Google_Stock_Price_Test.csv')\n",
        "\n",
        "#only consider 'Open' and 'Close' columns\n",
        "dataset_test = dataset_test[['Open', 'Close']]\n",
        "#real_stock_price = dataset_test.iloc[:, 1:3].values\n",
        "real_stock_price = dataset_test.values\n",
        "\n",
        "#'real_stock_price' contains 20 observations\n",
        "real_stock_price.shape"
      ],
      "execution_count": 6,
      "outputs": [
        {
          "output_type": "execute_result",
          "data": {
            "text/plain": [
              "(20, 2)"
            ]
          },
          "metadata": {
            "tags": []
          },
          "execution_count": 6
        }
      ]
    },
    {
      "cell_type": "code",
      "metadata": {
        "id": "TgcucODIa1rY",
        "colab": {
          "base_uri": "https://localhost:8080/"
        },
        "outputId": "488c9b53-4e4c-4d83-f1f2-70eb79615213"
      },
      "source": [
        "#get predicted stock price of 2017\n",
        "\n",
        "#in order to predict stockprice of one day in Jan 17,\n",
        "#we need 60 previous days\n",
        "#for these 60 days, we need training and test set\n",
        "\n",
        "#we will concatenate the initial dataframes\n",
        "#then we will scale the values\n",
        "#we have to scale the input values \n",
        "#cause the rnn was trained on the scaled values\n",
        "\n",
        "#for vertical concatenation, we take: axis = 0\n",
        "#for horizontal concatenation, we take: axis = 1\n",
        "dataset_total = pd.concat((dataset_train[['Open', 'Close']], dataset_test[['Open', 'Close']]), axis = 0)\n",
        "\n",
        "#get inputs of 60 previous days\n",
        "#first financial day that we want to predict is Jan 3\n",
        "#we get the index with this expression: [len(dataset_total) - len(dataset_test)]\n",
        "#--> length of dataset_test is 20\n",
        "\n",
        "#we get the lower bound with this expression: len(dataset_total) - len(dataset_test) - 60\n",
        "#the upper bound is the last index of the whole dataset\n",
        "#with 'values' we get a numpy array\n",
        "#'inputs' gives us all information to predict values of Jan 2017\n",
        "inputs = dataset_total[len(dataset_total) - len(dataset_test) - 60:].values\n",
        "\n",
        "#reshape to get right numpy shape\n",
        "#now we have the observations in lines and in 2 columns\n",
        "inputs = inputs.reshape(-1, 2)\n",
        "\n",
        "#scale the inputs (but not the test values)\n",
        "#here we don't take the 'fit_transform' method, because \n",
        "#'sc' was already prepared\n",
        "inputs = sc.transform(inputs)\n",
        "inputs.shape\n"
      ],
      "execution_count": 7,
      "outputs": [
        {
          "output_type": "execute_result",
          "data": {
            "text/plain": [
              "(80, 2)"
            ]
          },
          "metadata": {
            "tags": []
          },
          "execution_count": 7
        }
      ]
    },
    {
      "cell_type": "code",
      "metadata": {
        "id": "uOIg6lnrSagw"
      },
      "source": [
        "#make 3d structure for test set\n",
        "\n",
        "X_test = []\n",
        "#upper bound is 80: 60 + 20 (we have 20 financial days in the test set)\n",
        "for i in range(60, 80):\n",
        "    #get previous 60 values for each of the stock prices in Jan 2017\n",
        "    #'：' specifies the columns (we take all columns)\n",
        "    X_test.append(inputs[i-60:i, :])\n",
        "#make arrays from the lists\n",
        "X_test = np.array(X_test)\n",
        "\n",
        "#reshape data and add more dimensions\n",
        "#define number of indicators\n",
        "#currently we have one indicator ('open' stock price)\n",
        "#we for example can add stock prices of another company\n",
        "#'X_train.shape[0]' is the number of lines\n",
        "#'X_train.shape[1]' is the number of columns\n",
        "#'2' is the number of indicators (here we only take google stock price)\n",
        "X_test = np.reshape(X_test, (X_test.shape[0], X_test.shape[1], 2))"
      ],
      "execution_count": 8,
      "outputs": []
    },
    {
      "cell_type": "markdown",
      "metadata": {
        "id": "Mkly_KQ18e3i"
      },
      "source": [
        "## Get predictions based on training set from 2012 to 2016"
      ]
    },
    {
      "cell_type": "code",
      "metadata": {
        "id": "Uf1xHPEz7hqz"
      },
      "source": [
        "from keras.models import load_model\n",
        "regressor = load_model('reg_google_ind2_open_close_2012-2016.h5')"
      ],
      "execution_count": 9,
      "outputs": []
    },
    {
      "cell_type": "code",
      "metadata": {
        "id": "uAGP0aQf8bL7"
      },
      "source": [
        "#make predictions on the values of X_test (Jan 2017)\n",
        "predicted_stock_price = regressor.predict(X_test)\n",
        "\n",
        "#make 2D structure of array\n",
        "predicted_stock_price_2D = np.reshape(predicted_stock_price, (-1, 1))\n",
        "\n",
        "#change training_set_scaled[:,1] to 2D array and only take last 20 values\n",
        "#B = np.reshape(A, (-1, 2))\n",
        "close_price_2D = np.reshape(training_set_scaled[:20,1], (-1, 1))\n",
        "\n",
        "#add close_price_2D to array 'predicted_stock_price_2D'\n",
        "predicted_stock_close_price_2D = np.concatenate((predicted_stock_price_2D, close_price_2D), axis = 1)\n",
        "\n",
        "#inverse scaling of predictions\n",
        "predicted_stock_close_price_2D = sc.inverse_transform(predicted_stock_close_price_2D)"
      ],
      "execution_count": 10,
      "outputs": []
    },
    {
      "cell_type": "code",
      "metadata": {
        "colab": {
          "base_uri": "https://localhost:8080/",
          "height": 310
        },
        "id": "JSgYyKPx9HFP",
        "outputId": "4f8fd9cd-403a-40a6-baeb-dc98b79a51b8"
      },
      "source": [
        "#visualize the results\n",
        "plt.plot(real_stock_price[:, 0], color = 'red', label = 'Real Google Stock Price for Jan 2017')\n",
        "plt.plot(predicted_stock_close_price_2D[:, 0], color = 'blue', label = 'Predicted Google Stock Price for Jan 2017')\n",
        "plt.title('Google Stock Price Prediction (based on training between 2012 & 2016),\\n considering indicators Open Price and Close Price')\n",
        "plt.xlabel('Time')\n",
        "plt.ylabel('Stock Price')\n",
        "plt.legend()\n",
        "plt.show()"
      ],
      "execution_count": 11,
      "outputs": [
        {
          "output_type": "display_data",
          "data": {
            "image/png": "[encoded data removed]",
            "text/plain": [
              "<Figure size 432x288 with 1 Axes>"
            ]
          },
          "metadata": {
            "tags": [],
            "needs_background": "light"
          }
        }
      ]
    },
    {
      "cell_type": "code",
      "metadata": {
        "colab": {
          "base_uri": "https://localhost:8080/"
        },
        "id": "v7sLmZ6x9NZM",
        "outputId": "d57e0422-5adb-4128-e622-3143678a06ab"
      },
      "source": [
        "import math\n",
        "from sklearn.metrics import mean_squared_error\n",
        "#divide rmse by 840 (range of stock price of Jan 2017) --> so we get a relative stock price\n",
        "rmse_04_16 = (math.sqrt(mean_squared_error(real_stock_price[:, 0], predicted_stock_close_price_2D[:, 0]))) / 840\n",
        "rmse_04_16 "
      ],
      "execution_count": 12,
      "outputs": [
        {
          "output_type": "execute_result",
          "data": {
            "text/plain": [
              "0.022594626874556205"
            ]
          },
          "metadata": {
            "tags": []
          },
          "execution_count": 12
        }
      ]
    },
    {
      "cell_type": "code",
      "metadata": {
        "id": "5Mi4ixT49ElI",
        "colab": {
          "base_uri": "https://localhost:8080/"
        },
        "outputId": "c08814aa-f7ad-4294-9596-5233d78be614"
      },
      "source": [
        "#reshape arrays to vertical structure\n",
        "real_stock_vert = np.reshape(real_stock_price[:, 0], (-1, 1))\n",
        "pred_stock_vert = np.reshape(predicted_stock_close_price_2D[:, 0], (-1, 1))\n",
        "\n",
        "#concat arrays horizontally\n",
        "arrays_concat = np.concatenate((real_stock_vert, pred_stock_vert), axis = 1)\n",
        "\n",
        "real_val_list = arrays_concat[:,0].tolist()\n",
        "pred_val_list = arrays_concat[:,1].tolist()\n",
        "\n",
        "#loop through columns of array and check directions\n",
        "#if second value bigger than first value: give a 2\n",
        "#if second value smaller than first value： give a 1\n",
        "\n",
        "#get directions of real values\n",
        "direction_list_realval = []\n",
        "n = 0\n",
        "for x in real_val_list:\n",
        "    if real_val_list[n] > real_val_list[n-1]:\n",
        "        direction_list_realval.append(2)\n",
        "    else:\n",
        "        direction_list_realval.append(1)\n",
        "    n = n + 1  \n",
        "\n",
        "#get directions of predicted values\n",
        "direction_list_predval = []\n",
        "n = 0\n",
        "for x in pred_val_list:\n",
        "    if pred_val_list[n] > pred_val_list[n-1]:\n",
        "        direction_list_predval.append(2)\n",
        "    else:\n",
        "        direction_list_predval.append(1)\n",
        "    n = n + 1\n",
        "\n",
        "#change lists to arrays\n",
        "real_val_array = np.array(real_val_list)\n",
        "direction_array_realval = np.array(direction_list_realval)\n",
        "\n",
        "pred_val_array = np.array(pred_val_list)\n",
        "direction_array_predval = np.array(direction_list_predval)\n",
        "\n",
        "#reshape to 2D array\n",
        "real_val_2d = np.reshape(real_val_array, (-1, 1))\n",
        "direction_2d_realval = np.reshape(direction_array_realval, (-1, 1))\n",
        "\n",
        "pred_val_2d = np.reshape(pred_val_array, (-1, 1))\n",
        "direction_2d_predval = np.reshape(direction_array_predval, (-1, 1))\n",
        "\n",
        "val_dir = np.concatenate((real_val_2d, direction_2d_realval, pred_val_2d, direction_2d_predval), axis = 1)\n",
        "\n",
        "#select direction columns from 2D array\n",
        "list_ind = [1, 3]\n",
        "val_bin = val_dir[:,list_ind]\n",
        "\n",
        "correct_list = []\n",
        "for x in val_bin:\n",
        "  if x[0] == x[1]:\n",
        "    correct_list.append(1)\n",
        "  else:\n",
        "    correct_list.append(0)\n",
        "\n",
        "correct_list_array = np.reshape(correct_list, (-1, 1))\n",
        "\n",
        "val_bin_correct = np.concatenate((val_bin, correct_list_array), axis = 1)\n",
        "\n",
        "#calculate direction accuracy\n",
        "dir_acc = sum(val_bin_correct[:,2]) / len(val_bin_correct)\n",
        "dir_acc\n"
      ],
      "execution_count": 13,
      "outputs": [
        {
          "output_type": "execute_result",
          "data": {
            "text/plain": [
              "0.7"
            ]
          },
          "metadata": {
            "tags": []
          },
          "execution_count": 13
        }
      ]
    }
  ]
}