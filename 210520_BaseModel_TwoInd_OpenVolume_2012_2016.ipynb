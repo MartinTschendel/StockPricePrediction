{
  "nbformat": 4,
  "nbformat_minor": 0,
  "metadata": {
    "colab": {
      "name": "210520_BaseModel_TwoInd_OpenVolume_2012-2016.ipynb",
      "provenance": [],
      "collapsed_sections": [],
      "toc_visible": true
    },
    "kernelspec": {
      "name": "python3",
      "display_name": "Python 3"
    }
  },
  "cells": [
    {
      "cell_type": "code",
      "metadata": {
        "id": "88NemFH6Y3bj",
        "colab": {
          "base_uri": "https://localhost:8080/"
        },
        "outputId": "79cf9287-3fa1-42c4-afb3-fc2fcf79c1d9"
      },
      "source": [
        "import numpy as np\n",
        "import matplotlib.pyplot as plt\n",
        "import pandas as pd\n",
        "\n",
        "#argument 'thousands=','' avoids that comma is kept in numeric values\n",
        "dataset_train = pd.read_csv('Google_Price_Train_2012-2016.csv', thousands=',')\n",
        "\n",
        "#select just the Volume column\n",
        "dataset_train_volume = dataset_train['Volume']\n",
        "\n",
        "#change datatype of Volume column from object to float\n",
        "dataset_train_volume = pd.to_numeric(dataset_train_volume, errors='coerce')\n",
        "\n",
        "#extract the 'Open' column\n",
        "dataset_train_open = dataset_train['Open']\n",
        "\n",
        "#transform series into arrays\n",
        "dataset_train_open_array = dataset_train_open.values\n",
        "dataset_train_volume_array = dataset_train_volume.values\n",
        "\n",
        "#reshape to vertical structure and make 2D array\n",
        "open = dataset_train_open_array.reshape(-1, 1)\n",
        "volume = dataset_train_volume_array.reshape(-1, 1)\n",
        "\n",
        "#concatenate the 2 arrays\n",
        "training_set = np.concatenate((open, volume), axis = 1)\n",
        "\n",
        "training_set.shape"
      ],
      "execution_count": null,
      "outputs": [
        {
          "output_type": "execute_result",
          "data": {
            "text/plain": [
              "(1258, 2)"
            ]
          },
          "metadata": {
            "tags": []
          },
          "execution_count": 1
        }
      ]
    },
    {
      "cell_type": "code",
      "metadata": {
        "id": "cQ3cBYodcUjB"
      },
      "source": [
        "#feature scaling with normalisation\n",
        "from sklearn.preprocessing import MinMaxScaler\n",
        "#'sc' is an object of the MinMaxScaler class\n",
        "#the scaled stock prices will be between 0 and 1\n",
        "sc = MinMaxScaler(feature_range = (0, 1))\n",
        "#apply the scaler on the data\n",
        "training_set_scaled = sc.fit_transform(training_set)"
      ],
      "execution_count": null,
      "outputs": []
    },
    {
      "cell_type": "code",
      "metadata": {
        "id": "QdjdryL0doIe"
      },
      "source": [
        "#create data structure with 60 timesteps and 1 output\n",
        "#timesteps means: for one output in time t, it will check the values \n",
        "#of the 60 moments before\n",
        "X_train = []\n",
        "y_train = []\n",
        "#60 is the starting point (we need the days before to create first training value)\n",
        "#1258 is the index of the last day\n",
        "for i in range(60, 1258):\n",
        "    #get previous 60 values\n",
        "    #'1' specifies the columns (we have two columns)\n",
        "    X_train.append(training_set_scaled[i-60:i, 0:2])\n",
        "    y_train.append(training_set_scaled[i, 0])\n",
        "#make arrays from the lists\n",
        "X_train, y_train = np.array(X_train), np.array(y_train)\n"
      ],
      "execution_count": null,
      "outputs": []
    },
    {
      "cell_type": "code",
      "metadata": {
        "id": "PIhL-Z5wdqVw"
      },
      "source": [
        "#reshape data and add more dimensions\n",
        "#define number of indicators\n",
        "#currently we have two indicators ('Open' and 'Volume')\n",
        "#we for example can add stock prices of another company\n",
        "#'X_train.shape[0]' is the number of lines\n",
        "#'X_train.shape[1]' is the number of columns\n",
        "#'2' is the number of indicators (here we take 2 indicators)\n",
        "X_train = np.reshape(X_train, (X_train.shape[0], X_train.shape[1], 2))"
      ],
      "execution_count": null,
      "outputs": []
    },
    {
      "cell_type": "code",
      "metadata": {
        "id": "ZXBSLvrqi8-D",
        "colab": {
          "base_uri": "https://localhost:8080/"
        },
        "outputId": "ad03d0b9-02f8-4f91-cc3e-e2481c77935e"
      },
      "source": [
        "X_train.shape"
      ],
      "execution_count": null,
      "outputs": [
        {
          "output_type": "execute_result",
          "data": {
            "text/plain": [
              "(1198, 60, 2)"
            ]
          },
          "metadata": {
            "tags": []
          },
          "execution_count": 5
        }
      ]
    },
    {
      "cell_type": "code",
      "metadata": {
        "id": "74MDqcf7q19U"
      },
      "source": [
        "#import keras libraries & packages\n",
        "\n",
        "#that helps us to set up a sequence of layers\n",
        "from keras.models import Sequential\n",
        "#'Dense' produces the output layer\n",
        "from keras.layers import Dense\n",
        "#getting the LSTM layers\n",
        "from keras.layers import LSTM\n",
        "#use dropout to avoid overfitting\n",
        "from keras.layers import Dropout\n",
        "\n",
        "from keras import optimizers"
      ],
      "execution_count": null,
      "outputs": []
    },
    {
      "cell_type": "code",
      "metadata": {
        "id": "tjdTaZ6psGJQ"
      },
      "source": [
        "#initialize the RNN\n",
        "#'regressor' is used to predict a continuous value\n",
        "#'regressor' is an object of the 'Sequential' class\n",
        "regressor = Sequential()\n",
        "\n",
        "#add first LSTM layer and dropout regularization\n",
        "#LSTM object has 3 arguments:\n",
        "#1) number of units (neurons; LSTM cells)\n",
        "#2) return sequences: has to be true, cause we build a stacked LSTM\n",
        "#3) input shape (relates to shape of X_train; 2 last dimensions are enough)\n",
        "regressor.add(LSTM(units = 50, return_sequences = True, input_shape = (X_train.shape[1], 2)))\n",
        "\n",
        "#add dropout regularization\n",
        "#Dropout rate has one argument:\n",
        "#--> dropout rate (number of neurons, that should be switched off \n",
        "#during each iteration of the training)\n",
        "regressor.add(Dropout(0.2))\n",
        "\n",
        "#2nd layer\n",
        "#we don't need to specifiy input shape anymore\n",
        "regressor.add(LSTM(units = 50, return_sequences = True))\n",
        "regressor.add(Dropout(0.2))\n",
        "\n",
        "#3nd layer\n",
        "regressor.add(LSTM(units = 50, return_sequences = True))\n",
        "regressor.add(Dropout(0.2))\n",
        "\n",
        "#4th layer\n",
        "#we remove 'return_sequences = True' and keep the default value --> 'false'\n",
        "regressor.add(LSTM(units = 50))\n",
        "regressor.add(Dropout(0.2))\n",
        "\n",
        "#add output layer\n",
        "regressor.add(Dense(units = 1))\n",
        "\n",
        "#compile RNN with right optimizer\n",
        "#and right loss function\n",
        "#use 'compile' method of the 'sequential' class\n",
        "#different optimizers can be found on keras documentation\n",
        "\n",
        "regressor.compile(optimizer = 'Adam', loss = 'mean_squared_error')"
      ],
      "execution_count": null,
      "outputs": []
    },
    {
      "cell_type": "code",
      "metadata": {
        "id": "Z2xE38GO1eMl",
        "colab": {
          "base_uri": "https://localhost:8080/"
        },
        "outputId": "ee8efab3-1dfb-4ce7-8830-24630df2ab82"
      },
      "source": [
        "#fit RNN to training set\n",
        "#'batch_size' means: in every epoch, the model takes 32 observations\n",
        "#and updates the weights accordingly\n",
        "# 1258 total observations / 32 observations per batch =^ 38\n",
        "regressor.fit(X_train, y_train, epochs = 100, batch_size = 32)"
      ],
      "execution_count": null,
      "outputs": [
        {
          "output_type": "stream",
          "text": [
            "Epoch 1/100\n",
            "38/38 [==============================] - 8s 77ms/step - loss: 0.1185\n",
            "Epoch 2/100\n",
            "38/38 [==============================] - 3s 80ms/step - loss: 0.0078\n",
            "Epoch 3/100\n",
            "38/38 [==============================] - 3s 80ms/step - loss: 0.0058\n",
            "Epoch 4/100\n",
            "38/38 [==============================] - 3s 79ms/step - loss: 0.0048\n",
            "Epoch 5/100\n",
            "38/38 [==============================] - 3s 81ms/step - loss: 0.0061\n",
            "Epoch 6/100\n",
            "38/38 [==============================] - 3s 81ms/step - loss: 0.0049\n",
            "Epoch 7/100\n",
            "38/38 [==============================] - 3s 80ms/step - loss: 0.0051\n",
            "Epoch 8/100\n",
            "38/38 [==============================] - 3s 80ms/step - loss: 0.0046\n",
            "Epoch 9/100\n",
            "38/38 [==============================] - 3s 80ms/step - loss: 0.0046\n",
            "Epoch 10/100\n",
            "38/38 [==============================] - 3s 80ms/step - loss: 0.0047\n",
            "Epoch 11/100\n",
            "38/38 [==============================] - 3s 80ms/step - loss: 0.0049\n",
            "Epoch 12/100\n",
            "38/38 [==============================] - 3s 80ms/step - loss: 0.0039\n",
            "Epoch 13/100\n",
            "38/38 [==============================] - 3s 81ms/step - loss: 0.0043\n",
            "Epoch 14/100\n",
            "38/38 [==============================] - 3s 79ms/step - loss: 0.0042\n",
            "Epoch 15/100\n",
            "38/38 [==============================] - 3s 80ms/step - loss: 0.0039\n",
            "Epoch 16/100\n",
            "38/38 [==============================] - 3s 81ms/step - loss: 0.0039\n",
            "Epoch 17/100\n",
            "38/38 [==============================] - 3s 81ms/step - loss: 0.0037\n",
            "Epoch 18/100\n",
            "38/38 [==============================] - 3s 80ms/step - loss: 0.0039\n",
            "Epoch 19/100\n",
            "38/38 [==============================] - 3s 80ms/step - loss: 0.0036\n",
            "Epoch 20/100\n",
            "38/38 [==============================] - 3s 80ms/step - loss: 0.0031\n",
            "Epoch 21/100\n",
            "38/38 [==============================] - 3s 80ms/step - loss: 0.0033\n",
            "Epoch 22/100\n",
            "38/38 [==============================] - 3s 80ms/step - loss: 0.0036\n",
            "Epoch 23/100\n",
            "38/38 [==============================] - 3s 80ms/step - loss: 0.0036\n",
            "Epoch 24/100\n",
            "38/38 [==============================] - 3s 79ms/step - loss: 0.0033\n",
            "Epoch 25/100\n",
            "38/38 [==============================] - 3s 81ms/step - loss: 0.0031\n",
            "Epoch 26/100\n",
            "38/38 [==============================] - 3s 81ms/step - loss: 0.0034\n",
            "Epoch 27/100\n",
            "38/38 [==============================] - 3s 80ms/step - loss: 0.0030\n",
            "Epoch 28/100\n",
            "38/38 [==============================] - 3s 79ms/step - loss: 0.0033\n",
            "Epoch 29/100\n",
            "38/38 [==============================] - 3s 80ms/step - loss: 0.0029\n",
            "Epoch 30/100\n",
            "38/38 [==============================] - 3s 80ms/step - loss: 0.0032\n",
            "Epoch 31/100\n",
            "38/38 [==============================] - 3s 80ms/step - loss: 0.0031\n",
            "Epoch 32/100\n",
            "38/38 [==============================] - 3s 80ms/step - loss: 0.0029\n",
            "Epoch 33/100\n",
            "38/38 [==============================] - 3s 80ms/step - loss: 0.0029\n",
            "Epoch 34/100\n",
            "38/38 [==============================] - 3s 81ms/step - loss: 0.0027\n",
            "Epoch 35/100\n",
            "38/38 [==============================] - 3s 82ms/step - loss: 0.0034\n",
            "Epoch 36/100\n",
            "38/38 [==============================] - 3s 80ms/step - loss: 0.0032\n",
            "Epoch 37/100\n",
            "38/38 [==============================] - 3s 79ms/step - loss: 0.0025\n",
            "Epoch 38/100\n",
            "38/38 [==============================] - 3s 80ms/step - loss: 0.0027\n",
            "Epoch 39/100\n",
            "38/38 [==============================] - 3s 80ms/step - loss: 0.0022\n",
            "Epoch 40/100\n",
            "38/38 [==============================] - 3s 80ms/step - loss: 0.0025\n",
            "Epoch 41/100\n",
            "38/38 [==============================] - 3s 80ms/step - loss: 0.0027\n",
            "Epoch 42/100\n",
            "38/38 [==============================] - 3s 79ms/step - loss: 0.0028\n",
            "Epoch 43/100\n",
            "38/38 [==============================] - 3s 80ms/step - loss: 0.0028\n",
            "Epoch 44/100\n",
            "38/38 [==============================] - 3s 79ms/step - loss: 0.0026\n",
            "Epoch 45/100\n",
            "38/38 [==============================] - 3s 80ms/step - loss: 0.0025\n",
            "Epoch 46/100\n",
            "38/38 [==============================] - 3s 80ms/step - loss: 0.0027\n",
            "Epoch 47/100\n",
            "38/38 [==============================] - 3s 80ms/step - loss: 0.0027\n",
            "Epoch 48/100\n",
            "38/38 [==============================] - 3s 80ms/step - loss: 0.0028\n",
            "Epoch 49/100\n",
            "38/38 [==============================] - 3s 80ms/step - loss: 0.0026\n",
            "Epoch 50/100\n",
            "38/38 [==============================] - 3s 80ms/step - loss: 0.0025\n",
            "Epoch 51/100\n",
            "38/38 [==============================] - 3s 80ms/step - loss: 0.0022\n",
            "Epoch 52/100\n",
            "38/38 [==============================] - 3s 80ms/step - loss: 0.0026\n",
            "Epoch 53/100\n",
            "38/38 [==============================] - 3s 79ms/step - loss: 0.0022\n",
            "Epoch 54/100\n",
            "38/38 [==============================] - 3s 80ms/step - loss: 0.0020\n",
            "Epoch 55/100\n",
            "38/38 [==============================] - 3s 81ms/step - loss: 0.0025\n",
            "Epoch 56/100\n",
            "38/38 [==============================] - 3s 80ms/step - loss: 0.0020\n",
            "Epoch 57/100\n",
            "38/38 [==============================] - 3s 80ms/step - loss: 0.0022\n",
            "Epoch 58/100\n",
            "38/38 [==============================] - 3s 80ms/step - loss: 0.0022\n",
            "Epoch 59/100\n",
            "38/38 [==============================] - 3s 81ms/step - loss: 0.0022\n",
            "Epoch 60/100\n",
            "38/38 [==============================] - 3s 81ms/step - loss: 0.0025\n",
            "Epoch 61/100\n",
            "38/38 [==============================] - 3s 80ms/step - loss: 0.0019\n",
            "Epoch 62/100\n",
            "38/38 [==============================] - 3s 80ms/step - loss: 0.0025\n",
            "Epoch 63/100\n",
            "38/38 [==============================] - 3s 80ms/step - loss: 0.0021\n",
            "Epoch 64/100\n",
            "38/38 [==============================] - 3s 81ms/step - loss: 0.0021\n",
            "Epoch 65/100\n",
            "38/38 [==============================] - 3s 80ms/step - loss: 0.0017\n",
            "Epoch 66/100\n",
            "38/38 [==============================] - 3s 81ms/step - loss: 0.0019\n",
            "Epoch 67/100\n",
            "38/38 [==============================] - 3s 81ms/step - loss: 0.0023\n",
            "Epoch 68/100\n",
            "38/38 [==============================] - 3s 81ms/step - loss: 0.0020\n",
            "Epoch 69/100\n",
            "38/38 [==============================] - 3s 80ms/step - loss: 0.0018\n",
            "Epoch 70/100\n",
            "38/38 [==============================] - 3s 81ms/step - loss: 0.0020\n",
            "Epoch 71/100\n",
            "38/38 [==============================] - 3s 80ms/step - loss: 0.0021\n",
            "Epoch 72/100\n",
            "38/38 [==============================] - 3s 81ms/step - loss: 0.0022\n",
            "Epoch 73/100\n",
            "38/38 [==============================] - 3s 80ms/step - loss: 0.0018\n",
            "Epoch 74/100\n",
            "38/38 [==============================] - 3s 81ms/step - loss: 0.0022\n",
            "Epoch 75/100\n",
            "38/38 [==============================] - 3s 80ms/step - loss: 0.0018\n",
            "Epoch 76/100\n",
            "38/38 [==============================] - 3s 80ms/step - loss: 0.0020\n",
            "Epoch 77/100\n",
            "38/38 [==============================] - 3s 80ms/step - loss: 0.0017\n",
            "Epoch 78/100\n",
            "38/38 [==============================] - 3s 81ms/step - loss: 0.0020\n",
            "Epoch 79/100\n",
            "38/38 [==============================] - 3s 80ms/step - loss: 0.0020\n",
            "Epoch 80/100\n",
            "38/38 [==============================] - 3s 81ms/step - loss: 0.0020\n",
            "Epoch 81/100\n",
            "38/38 [==============================] - 3s 80ms/step - loss: 0.0016\n",
            "Epoch 82/100\n",
            "38/38 [==============================] - 3s 80ms/step - loss: 0.0017\n",
            "Epoch 83/100\n",
            "38/38 [==============================] - 3s 81ms/step - loss: 0.0018\n",
            "Epoch 84/100\n",
            "38/38 [==============================] - 3s 81ms/step - loss: 0.0017\n",
            "Epoch 85/100\n",
            "38/38 [==============================] - 3s 81ms/step - loss: 0.0018\n",
            "Epoch 86/100\n",
            "38/38 [==============================] - 3s 80ms/step - loss: 0.0016\n",
            "Epoch 87/100\n",
            "38/38 [==============================] - 3s 80ms/step - loss: 0.0016\n",
            "Epoch 88/100\n",
            "38/38 [==============================] - 3s 81ms/step - loss: 0.0018\n",
            "Epoch 89/100\n",
            "38/38 [==============================] - 3s 81ms/step - loss: 0.0020\n",
            "Epoch 90/100\n",
            "38/38 [==============================] - 3s 81ms/step - loss: 0.0018\n",
            "Epoch 91/100\n",
            "38/38 [==============================] - 3s 81ms/step - loss: 0.0015\n",
            "Epoch 92/100\n",
            "38/38 [==============================] - 3s 80ms/step - loss: 0.0015\n",
            "Epoch 93/100\n",
            "38/38 [==============================] - 3s 81ms/step - loss: 0.0014\n",
            "Epoch 94/100\n",
            "38/38 [==============================] - 3s 81ms/step - loss: 0.0016\n",
            "Epoch 95/100\n",
            "38/38 [==============================] - 3s 82ms/step - loss: 0.0017\n",
            "Epoch 96/100\n",
            "38/38 [==============================] - 3s 81ms/step - loss: 0.0014\n",
            "Epoch 97/100\n",
            "38/38 [==============================] - 3s 79ms/step - loss: 0.0017\n",
            "Epoch 98/100\n",
            "38/38 [==============================] - 3s 80ms/step - loss: 0.0012\n",
            "Epoch 99/100\n",
            "38/38 [==============================] - 3s 81ms/step - loss: 0.0016\n",
            "Epoch 100/100\n",
            "38/38 [==============================] - 3s 81ms/step - loss: 0.0014\n"
          ],
          "name": "stdout"
        },
        {
          "output_type": "execute_result",
          "data": {
            "text/plain": [
              "<tensorflow.python.keras.callbacks.History at 0x7fc7b37bc1d0>"
            ]
          },
          "metadata": {
            "tags": []
          },
          "execution_count": 19
        }
      ]
    },
    {
      "cell_type": "code",
      "metadata": {
        "id": "0z_URHiQObPH"
      },
      "source": [
        "#save the model\n",
        "from keras.models import load_model\n",
        "regressor.save('reg_ind2_open_volume_2012-2016.h5')\n"
      ],
      "execution_count": null,
      "outputs": []
    },
    {
      "cell_type": "code",
      "metadata": {
        "id": "hNd7XQzk6NoD"
      },
      "source": [
        "#making predictions and visualize results\n",
        "\n",
        "#get real stock price of January 2017\n",
        "dataset_test = pd.read_csv('Google_Stock_Price_Test.csv', thousands=',')\n"
      ],
      "execution_count": null,
      "outputs": []
    },
    {
      "cell_type": "code",
      "metadata": {
        "id": "J3c_bk_F6OL3",
        "colab": {
          "base_uri": "https://localhost:8080/"
        },
        "outputId": "3d763463-373c-459e-979d-290c2ef73bb5"
      },
      "source": [
        "#select just the Volume column\n",
        "dataset_test_volume = dataset_test['Volume']\n",
        "\n",
        "#change datatype of Volume column from object to float\n",
        "dataset_test_volume = pd.to_numeric(dataset_test_volume, errors='coerce')\n",
        "\n",
        "#extract the 'Open' column\n",
        "dataset_test_open = dataset_test['Open']\n",
        "\n",
        "#transform series into arrays\n",
        "dataset_test_open_array = dataset_test_open.values\n",
        "dataset_test_volume_array = dataset_test_volume.values\n",
        "\n",
        "#reshape to vertical structure and make 2D array\n",
        "open_test = dataset_test_open_array.reshape(-1, 1)\n",
        "volume_test = dataset_test_volume_array.reshape(-1, 1)\n",
        "\n",
        "#concatenate the 2 arrays\n",
        "real_stock_price = np.concatenate((open_test, volume_test), axis = 1)\n",
        "\n",
        "#'real_stock_price' contains 20 observations\n",
        "real_stock_price.shape\n"
      ],
      "execution_count": null,
      "outputs": [
        {
          "output_type": "execute_result",
          "data": {
            "text/plain": [
              "(20, 2)"
            ]
          },
          "metadata": {
            "tags": []
          },
          "execution_count": 11
        }
      ]
    },
    {
      "cell_type": "code",
      "metadata": {
        "id": "TgcucODIa1rY"
      },
      "source": [
        "#get predicted stock price of 2017\n",
        "\n",
        "#in order to predict stockprice of one day in Jan 17,\n",
        "#we need 60 previous days\n",
        "#for these 60 days, we need training and test set\n",
        "\n",
        "#we will concatenate the initial dataframes\n",
        "#then we will scale the values\n",
        "#we have to scale the input values \n",
        "#cause the rnn was trained on the scaled values\n",
        "\n",
        "#for vertical concatenation, we take: axis = 0\n",
        "#for horizontal concatenation, we take: axis = 1\n",
        "dataset_total = pd.concat((dataset_train[['Open', 'Volume']], dataset_test[['Open', 'Volume']]), axis = 0)\n",
        "\n",
        "#get inputs of 60 previous days\n",
        "#first financial day that we want to predict is Jan 3\n",
        "#we get the index with this expression: [len(dataset_total) - len(dataset_test)]\n",
        "#--> length of dataset_test is 20\n",
        "\n",
        "#we get the lower bound with this expression: len(dataset_total) - len(dataset_test) - 60\n",
        "#the upper bound is the last index of the whole dataset\n",
        "#with 'values' we get a numpy array\n",
        "#'inputs' gives us all information to predict values of Jan 2017\n",
        "inputs = dataset_total[len(dataset_total) - len(dataset_test) - 60:].values\n",
        "\n",
        "#reshape to get right numpy shape\n",
        "#now we have the observations in lines and in 2 columns\n",
        "inputs = inputs.reshape(-1, 2)\n",
        "\n",
        "#scale the inputs (but not the test values)\n",
        "#here we don't take the 'fit_transform' method, because \n",
        "#'sc' was already prepared\n",
        "inputs = sc.transform(inputs)\n"
      ],
      "execution_count": null,
      "outputs": []
    },
    {
      "cell_type": "code",
      "metadata": {
        "colab": {
          "base_uri": "https://localhost:8080/"
        },
        "id": "4eFDns0CZpwm",
        "outputId": "fc26eacf-f7de-4a03-a9ba-af58559ac74b"
      },
      "source": [
        "inputs.shape"
      ],
      "execution_count": null,
      "outputs": [
        {
          "output_type": "execute_result",
          "data": {
            "text/plain": [
              "(80, 2)"
            ]
          },
          "metadata": {
            "tags": []
          },
          "execution_count": 13
        }
      ]
    },
    {
      "cell_type": "code",
      "metadata": {
        "id": "uOIg6lnrSagw"
      },
      "source": [
        "#make 3d structure for test set\n",
        "\n",
        "X_test = []\n",
        "#upper bound is 80: 60 + 20 (we have 20 financial days in the test set)\n",
        "for i in range(60, 80):\n",
        "    #get previous 60 values for each of the stock prices in Jan 2017\n",
        "    #'：' specifies the columns (we take all columns)\n",
        "    X_test.append(inputs[i-60:i, :])\n",
        "#make arrays from the lists\n",
        "X_test = np.array(X_test)\n",
        "\n",
        "#reshape data and add more dimensions\n",
        "#define number of indicators\n",
        "#currently we have one indicator ('open' stock price)\n",
        "#we for example can add stock prices of another company\n",
        "#'X_train.shape[0]' is the number of lines\n",
        "#'X_train.shape[1]' is the number of columns\n",
        "#'2' is the number of indicators (open price and volume)\n",
        "X_test = np.reshape(X_test, (X_test.shape[0], X_test.shape[1], 2))"
      ],
      "execution_count": null,
      "outputs": []
    },
    {
      "cell_type": "markdown",
      "metadata": {
        "id": "Mkly_KQ18e3i"
      },
      "source": [
        "## Get predictions based on training set from 2012 to 2016"
      ]
    },
    {
      "cell_type": "code",
      "metadata": {
        "id": "Uf1xHPEz7hqz"
      },
      "source": [
        "from keras.models import load_model\n",
        "regressor = load_model('reg_ind2_open_volume_2012-2016.h5')"
      ],
      "execution_count": null,
      "outputs": []
    },
    {
      "cell_type": "code",
      "metadata": {
        "id": "uAGP0aQf8bL7"
      },
      "source": [
        "#make predictions on the values of X_test (Jan 2017)\n",
        "predicted_stock_price = regressor.predict(X_test)\n",
        "\n",
        "#make 2D structure of array\n",
        "predicted_stock_price_2D = np.reshape(predicted_stock_price, (-1, 1))\n",
        "\n",
        "#change training_set_scaled[:,1] to 2D array and only take last 20 values\n",
        "#B = np.reshape(A, (-1, 2))\n",
        "volume_2D = np.reshape(training_set_scaled[:20,1], (-1, 1))\n",
        "\n",
        "#add volume_2D to array 'predicted_stock_price_2D'\n",
        "predicted_price_volume_2D = np.concatenate((predicted_stock_price_2D, volume_2D), axis = 1)\n",
        "\n",
        "#inverse scaling of predictions\n",
        "predicted_price_volume_2D = sc.inverse_transform(predicted_price_volume_2D)"
      ],
      "execution_count": null,
      "outputs": []
    },
    {
      "cell_type": "code",
      "metadata": {
        "colab": {
          "base_uri": "https://localhost:8080/",
          "height": 310
        },
        "id": "JSgYyKPx9HFP",
        "outputId": "9bee4ba0-a78c-4785-f2cc-f1217169ee81"
      },
      "source": [
        "#visualize the results\n",
        "plt.plot(real_stock_price[:, 0], color = 'red', label = 'Real Google Stock Price for Jan 2017')\n",
        "plt.plot(predicted_price_volume_2D[:, 0], color = 'blue', label = 'Predicted Google Stock Price for Jan 2017')\n",
        "plt.title('Google Stock Price Prediction (based on training between 2012 & 2016),\\n considering indicators Open Price and Volume')\n",
        "plt.xlabel('Time')\n",
        "plt.ylabel('Stock Price')\n",
        "plt.legend()\n",
        "plt.show()"
      ],
      "execution_count": null,
      "outputs": [
        {
          "output_type": "display_data",
          "data": {
            "image/png": "[encoded data removed]",
            "text/plain": [
              "<Figure size 432x288 with 1 Axes>"
            ]
          },
          "metadata": {
            "tags": [],
            "needs_background": "light"
          }
        }
      ]
    },
    {
      "cell_type": "code",
      "metadata": {
        "colab": {
          "base_uri": "https://localhost:8080/"
        },
        "id": "v7sLmZ6x9NZM",
        "outputId": "fcd9afb6-4250-4ee0-fbf7-ced5a692171c"
      },
      "source": [
        "import math\n",
        "from sklearn.metrics import mean_squared_error\n",
        "#divide rmse by 840 (range of stock price of Jan 2017) --> so we get a relative stock price\n",
        "rmse_04_16 = (math.sqrt(mean_squared_error(real_stock_price[:, 0], predicted_price_volume_2D[:, 0]))) / 840\n",
        "rmse_04_16 "
      ],
      "execution_count": null,
      "outputs": [
        {
          "output_type": "execute_result",
          "data": {
            "text/plain": [
              "0.014138325187227721"
            ]
          },
          "metadata": {
            "tags": []
          },
          "execution_count": 19
        }
      ]
    },
    {
      "cell_type": "code",
      "metadata": {
        "id": "5Mi4ixT49ElI",
        "colab": {
          "base_uri": "https://localhost:8080/"
        },
        "outputId": "2a84d985-f931-4dff-9335-52b6b0ff9c79"
      },
      "source": [
        "#reshape arrays to vertical structure\n",
        "real_stock_vert = np.reshape(real_stock_price[:, 0], (-1, 1))\n",
        "pred_stock_vert = np.reshape(predicted_price_volume_2D[:, 0], (-1, 1))\n",
        "\n",
        "#concat arrays horizontally\n",
        "arrays_concat = np.concatenate((real_stock_vert, pred_stock_vert), axis = 1)\n",
        "\n",
        "real_val_list = arrays_concat[:,0].tolist()\n",
        "pred_val_list = arrays_concat[:,1].tolist()\n",
        "\n",
        "#loop through columns of array and check directions\n",
        "#if second value bigger than first value: give a 2\n",
        "#if second value smaller than first value： give a 1\n",
        "\n",
        "#get directions of real values\n",
        "direction_list_realval = []\n",
        "n = 0\n",
        "for x in real_val_list:\n",
        "    if real_val_list[n] > real_val_list[n-1]:\n",
        "        direction_list_realval.append(2)\n",
        "    else:\n",
        "        direction_list_realval.append(1)\n",
        "    n = n + 1  \n",
        "\n",
        "#get directions of predicted values\n",
        "direction_list_predval = []\n",
        "n = 0\n",
        "for x in pred_val_list:\n",
        "    if pred_val_list[n] > pred_val_list[n-1]:\n",
        "        direction_list_predval.append(2)\n",
        "    else:\n",
        "        direction_list_predval.append(1)\n",
        "    n = n + 1\n",
        "\n",
        "#change lists to arrays\n",
        "real_val_array = np.array(real_val_list)\n",
        "direction_array_realval = np.array(direction_list_realval)\n",
        "\n",
        "pred_val_array = np.array(pred_val_list)\n",
        "direction_array_predval = np.array(direction_list_predval)\n",
        "\n",
        "#reshape to 2D array\n",
        "real_val_2d = np.reshape(real_val_array, (-1, 1))\n",
        "direction_2d_realval = np.reshape(direction_array_realval, (-1, 1))\n",
        "\n",
        "pred_val_2d = np.reshape(pred_val_array, (-1, 1))\n",
        "direction_2d_predval = np.reshape(direction_array_predval, (-1, 1))\n",
        "\n",
        "val_dir = np.concatenate((real_val_2d, direction_2d_realval, pred_val_2d, direction_2d_predval), axis = 1)\n",
        "\n",
        "#select direction columns from 2D array\n",
        "list_ind = [1, 3]\n",
        "val_bin = val_dir[:,list_ind]\n",
        "\n",
        "correct_list = []\n",
        "for x in val_bin:\n",
        "  if x[0] == x[1]:\n",
        "    correct_list.append(1)\n",
        "  else:\n",
        "    correct_list.append(0)\n",
        "\n",
        "correct_list_array = np.reshape(correct_list, (-1, 1))\n",
        "\n",
        "val_bin_correct = np.concatenate((val_bin, correct_list_array), axis = 1)\n",
        "\n",
        "#calculate direction accuracy (in percent)\n",
        "dir_acc = sum(val_bin_correct[:,2]) / len(val_bin_correct)\n",
        "dir_acc"
      ],
      "execution_count": null,
      "outputs": [
        {
          "output_type": "execute_result",
          "data": {
            "text/plain": [
              "0.7"
            ]
          },
          "metadata": {
            "tags": []
          },
          "execution_count": 21
        }
      ]
    },
    {
      "cell_type": "code",
      "metadata": {
        "id": "WcO4YfQRCnbM"
      },
      "source": [
        ""
      ],
      "execution_count": null,
      "outputs": []
    }
  ]
}